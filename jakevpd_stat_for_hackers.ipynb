{
 "cells": [
  {
   "cell_type": "markdown",
   "metadata": {},
   "source": [
    "# This is from Jake Vanderplas - Statistics for Hackers - PyCon 2016\n",
    "[source](https://www.youtube.com/watch?v=Iq9DzN6mvYA)"
   ]
  },
  {
   "cell_type": "code",
   "execution_count": 2,
   "metadata": {},
   "outputs": [],
   "source": [
    "import random as ran\n",
    "import numpy as np"
   ]
  },
  {
   "cell_type": "code",
   "execution_count": 26,
   "metadata": {},
   "outputs": [],
   "source": [
    "def Fair_coin_null_hypothesis(trial,heads):\n",
    "    M=0 # number of counts above 22\n",
    "    for i in range(trial+1):\n",
    "        trials = np.random.randint(0,2,size=30)\n",
    "        if (trials.sum() >= heads):\n",
    "            M+=1\n",
    "    p = M/trial\n",
    "    return p\n",
    "    \n"
   ]
  },
  {
   "cell_type": "code",
   "execution_count": 31,
   "metadata": {},
   "outputs": [
    {
     "data": {
      "text/plain": [
       "0.00827"
      ]
     },
     "execution_count": 31,
     "metadata": {},
     "output_type": "execute_result"
    }
   ],
   "source": [
    "Fair_coin_null_hypothesis(10000,22)"
   ]
  },
  {
   "cell_type": "markdown",
   "metadata": {},
   "source": [
    "#### do plotting next "
   ]
  },
  {
   "cell_type": "code",
   "execution_count": 37,
   "metadata": {},
   "outputs": [
    {
     "name": "stdout",
     "output_type": "stream",
     "text": [
      "[ 4  2 11  4  4 11  9  2  4  0 15 11 10  1 15 13 17 15 16 15]\n",
      "[14  2 13 11  8 19 17 17 13 17  5  3 10 15 12 18  3  7  1 17]\n"
     ]
    }
   ],
   "source": [
    "N = np.random.randint(20,size=20)\n",
    "N[np.random.randint(20,size=20)]\n",
    "print(N)\n",
    "print(np.random.randint(20,size=20))"
   ]
  },
  {
   "cell_type": "code",
   "execution_count": null,
   "metadata": {},
   "outputs": [],
   "source": []
  }
 ],
 "metadata": {
  "kernelspec": {
   "display_name": "Python 3",
   "language": "python",
   "name": "python3"
  },
  "language_info": {
   "codemirror_mode": {
    "name": "ipython",
    "version": 3
   },
   "file_extension": ".py",
   "mimetype": "text/x-python",
   "name": "python",
   "nbconvert_exporter": "python",
   "pygments_lexer": "ipython3",
   "version": "3.6.5"
  }
 },
 "nbformat": 4,
 "nbformat_minor": 2
}
